{
 "cells": [
  {
   "cell_type": "code",
   "execution_count": 2,
   "metadata": {},
   "outputs": [],
   "source": [
    "from sklearn.datasets import load_iris\n",
    "from sklearn.model_selection import train_test_split\n",
    "\n",
    "import matplotlib.pyplot as plt\n",
    "%matplotlib inline\n",
    "\n",
    "iris = load_iris()\n",
    "\n",
    "X_train, X_test, y_train, y_test = train_test_split(iris.data, iris.target, random_state=42)"
   ]
  },
  {
   "cell_type": "code",
   "execution_count": 5,
   "metadata": {},
   "outputs": [
    {
     "data": {
      "text/plain": [
       "array(['setosa', 'versicolor', 'virginica'], dtype='<U10')"
      ]
     },
     "execution_count": 5,
     "metadata": {},
     "output_type": "execute_result"
    }
   ],
   "source": [
    "iris.target_names"
   ]
  },
  {
   "cell_type": "code",
   "execution_count": 6,
   "metadata": {},
   "outputs": [
    {
     "data": {
      "text/plain": [
       "GradientBoostingClassifier(criterion='friedman_mse', init=None,\n              learning_rate=0.01, loss='deviance', max_depth=3,\n              max_features=None, max_leaf_nodes=None,\n              min_impurity_decrease=0.0, min_impurity_split=None,\n              min_samples_leaf=1, min_samples_split=2,\n              min_weight_fraction_leaf=0.0, n_estimators=100,\n              presort='auto', random_state=0, subsample=1.0, verbose=0,\n              warm_start=False)"
      ]
     },
     "execution_count": 6,
     "metadata": {},
     "output_type": "execute_result"
    }
   ],
   "source": [
    "from sklearn.ensemble import GradientBoostingClassifier\n",
    "\n",
    "gbrt = GradientBoostingClassifier(learning_rate=0.01, random_state=0)\n",
    "\n",
    "gbrt.fit(X_train, y_train)"
   ]
  },
  {
   "cell_type": "code",
   "execution_count": 7,
   "metadata": {},
   "outputs": [
    {
     "name": "stdout",
     "output_type": "stream",
     "text": [
      "[[-0.52931069  1.46560359 -0.50448467]\n [ 1.51154215 -0.49561142 -0.50310736]\n [-0.52379401 -0.4676268   1.51953786]\n [-0.52931069  1.46560359 -0.50448467]\n [-0.53107259  1.28190451  0.21510024]\n [ 1.51154215 -0.49561142 -0.50310736]\n [-0.52931069  1.46560359 -0.50448467]\n [-0.53043817 -0.4676268   1.51953786]\n [-0.52931069  1.46560359 -0.50448467]\n [-0.52931069  1.46560359 -0.50448467]]\n"
     ]
    }
   ],
   "source": [
    "print(gbrt.decision_function(X_test[:10]))"
   ]
  },
  {
   "cell_type": "code",
   "execution_count": 8,
   "metadata": {},
   "outputs": [
    {
     "name": "stdout",
     "output_type": "stream",
     "text": [
      "[[0.10664722 0.7840248  0.10932798]\n [0.78880668 0.10599243 0.10520089]\n [0.10231173 0.10822274 0.78946553]\n [0.10664722 0.7840248  0.10932798]\n [0.10825347 0.66344934 0.22829719]\n [0.78880668 0.10599243 0.10520089]\n [0.10664722 0.7840248  0.10932798]\n [0.10170311 0.10829611 0.79000078]\n [0.10664722 0.7840248  0.10932798]\n [0.10664722 0.7840248  0.10932798]]\n"
     ]
    }
   ],
   "source": [
    "print(gbrt.predict_proba(X_test[:10]))"
   ]
  }
 ],
 "metadata": {
  "kernelspec": {
   "display_name": "Python 2",
   "language": "python",
   "name": "python2"
  },
  "language_info": {
   "codemirror_mode": {
    "name": "ipython",
    "version": 2
   },
   "file_extension": ".py",
   "mimetype": "text/x-python",
   "name": "python",
   "nbconvert_exporter": "python",
   "pygments_lexer": "ipython2",
   "version": "2.7.6"
  }
 },
 "nbformat": 4,
 "nbformat_minor": 0
}
