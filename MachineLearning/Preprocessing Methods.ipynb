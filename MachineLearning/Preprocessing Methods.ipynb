{
 "cells": [
  {
   "cell_type": "code",
   "execution_count": 1,
   "metadata": {
    "collapsed": true
   },
   "outputs": [],
   "source": [
    "import numpy as np\n",
    "\n",
    "data = np.array([[2.2, 5.9, -1.8], [5.4, -3.2, -5.1], [-1.9, 4.2, 3.2]])"
   ]
  },
  {
   "cell_type": "code",
   "execution_count": 3,
   "metadata": {},
   "outputs": [
    {
     "name": "stdout",
     "output_type": "stream",
     "text": [
      "[[1. 1. 0.]\n [1. 0. 0.]\n [0. 1. 1.]]\n"
     ]
    }
   ],
   "source": [
    "from sklearn import preprocessing\n",
    "\n",
    "bindata = preprocessing.Binarizer(threshold=1.5).transform(data)\n",
    "print(bindata)"
   ]
  },
  {
   "cell_type": "code",
   "execution_count": 4,
   "metadata": {},
   "outputs": [
    {
     "name": "stdout",
     "output_type": "stream",
     "text": [
      "mean [ 1.9         2.3        -1.23333333]\nstd dev [2.98775278 3.95052739 3.41207008]\n"
     ]
    }
   ],
   "source": [
    "print('mean', data.mean(axis=0))\n",
    "print('std dev', data.std(axis=0))"
   ]
  },
  {
   "cell_type": "code",
   "execution_count": 5,
   "metadata": {},
   "outputs": [
    {
     "name": "stdout",
     "output_type": "stream",
     "text": [
      "mean [0.00000000e+00 0.00000000e+00 7.40148683e-17]\nstd dev [1. 1. 1.]\n"
     ]
    }
   ],
   "source": [
    "scaled_data = preprocessing.scale(data)\n",
    "\n",
    "print('mean', scaled_data.mean(axis=0))\n",
    "print('std dev', scaled_data.std(axis=0))"
   ]
  },
  {
   "cell_type": "code",
   "execution_count": 7,
   "metadata": {},
   "outputs": [
    {
     "name": "stdout",
     "output_type": "stream",
     "text": [
      "[[0.56164384 1.         0.39759036]\n [1.         0.         0.        ]\n [0.         0.81318681 1.        ]]\n"
     ]
    }
   ],
   "source": [
    "minmax_scaler = preprocessing.MinMaxScaler(feature_range=(0, 1))\n",
    "data_minax = minmax_scaler.fit_transform(data)\n",
    "\n",
    "print(data_minax)"
   ]
  },
  {
   "cell_type": "code",
   "execution_count": 9,
   "metadata": {},
   "outputs": [
    {
     "name": "stdout",
     "output_type": "stream",
     "text": [
      "[[ 0.22222222  0.5959596  -0.18181818]\n [ 0.39416058 -0.23357664 -0.37226277]\n [-0.20430108  0.4516129   0.34408602]]\n\n[[ 0.3359268   0.90089461 -0.2748492 ]\n [ 0.6676851  -0.39566524 -0.63059148]\n [-0.33858465  0.74845029  0.57024784]]\n"
     ]
    }
   ],
   "source": [
    "data_l1 = preprocessing.normalize(data, norm='l1')\n",
    "data_l2 = preprocessing.normalize(data, norm='l2')\n",
    "\n",
    "print(data_l1)\n",
    "print()\n",
    "print(data_l2)"
   ]
  }
 ],
 "metadata": {
  "kernelspec": {
   "display_name": "Python 2",
   "language": "python",
   "name": "python2"
  },
  "language_info": {
   "codemirror_mode": {
    "name": "ipython",
    "version": 2
   },
   "file_extension": ".py",
   "mimetype": "text/x-python",
   "name": "python",
   "nbconvert_exporter": "python",
   "pygments_lexer": "ipython2",
   "version": "2.7.6"
  }
 },
 "nbformat": 4,
 "nbformat_minor": 0
}
